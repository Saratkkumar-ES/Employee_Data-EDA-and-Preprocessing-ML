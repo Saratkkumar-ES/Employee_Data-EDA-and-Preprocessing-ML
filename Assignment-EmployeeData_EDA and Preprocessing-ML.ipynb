{
 "cells": [
  {
   "cell_type": "code",
   "execution_count": 7,
   "id": "ae63d443-fed2-4e1e-8bdf-0db95a49c63d",
   "metadata": {},
   "outputs": [],
   "source": [
    "# Importing Necessary Libraries\n",
    "\n",
    "import pandas as pd\n",
    "import numpy as np\n",
    "import matplotlib.pyplot as plt\n",
    "import seaborn as sns\n",
    "\n",
    "from sklearn.preprocessing import LabelEncoder, OneHotEncoder, StandardScaler, MinMaxScaler "
   ]
  },
  {
   "cell_type": "code",
   "execution_count": 79,
   "id": "688687a4-1191-4e25-ae5d-b3eb77f37c42",
   "metadata": {},
   "outputs": [
    {
     "data": {
      "text/html": [
       "<div>\n",
       "<style scoped>\n",
       "    .dataframe tbody tr th:only-of-type {\n",
       "        vertical-align: middle;\n",
       "    }\n",
       "\n",
       "    .dataframe tbody tr th {\n",
       "        vertical-align: top;\n",
       "    }\n",
       "\n",
       "    .dataframe thead th {\n",
       "        text-align: right;\n",
       "    }\n",
       "</style>\n",
       "<table border=\"1\" class=\"dataframe\">\n",
       "  <thead>\n",
       "    <tr style=\"text-align: right;\">\n",
       "      <th></th>\n",
       "      <th>Company</th>\n",
       "      <th>Age</th>\n",
       "      <th>Salary</th>\n",
       "      <th>Place</th>\n",
       "      <th>Country</th>\n",
       "      <th>Gender</th>\n",
       "    </tr>\n",
       "  </thead>\n",
       "  <tbody>\n",
       "    <tr>\n",
       "      <th>0</th>\n",
       "      <td>TCS</td>\n",
       "      <td>20.0</td>\n",
       "      <td>NaN</td>\n",
       "      <td>Chennai</td>\n",
       "      <td>India</td>\n",
       "      <td>0</td>\n",
       "    </tr>\n",
       "    <tr>\n",
       "      <th>1</th>\n",
       "      <td>Infosys</td>\n",
       "      <td>30.0</td>\n",
       "      <td>NaN</td>\n",
       "      <td>Mumbai</td>\n",
       "      <td>India</td>\n",
       "      <td>0</td>\n",
       "    </tr>\n",
       "    <tr>\n",
       "      <th>2</th>\n",
       "      <td>TCS</td>\n",
       "      <td>35.0</td>\n",
       "      <td>2300.0</td>\n",
       "      <td>Calcutta</td>\n",
       "      <td>India</td>\n",
       "      <td>0</td>\n",
       "    </tr>\n",
       "    <tr>\n",
       "      <th>3</th>\n",
       "      <td>Infosys</td>\n",
       "      <td>40.0</td>\n",
       "      <td>3000.0</td>\n",
       "      <td>Delhi</td>\n",
       "      <td>India</td>\n",
       "      <td>0</td>\n",
       "    </tr>\n",
       "    <tr>\n",
       "      <th>4</th>\n",
       "      <td>TCS</td>\n",
       "      <td>23.0</td>\n",
       "      <td>4000.0</td>\n",
       "      <td>Mumbai</td>\n",
       "      <td>India</td>\n",
       "      <td>0</td>\n",
       "    </tr>\n",
       "  </tbody>\n",
       "</table>\n",
       "</div>"
      ],
      "text/plain": [
       "   Company   Age  Salary     Place Country  Gender\n",
       "0      TCS  20.0     NaN   Chennai   India       0\n",
       "1  Infosys  30.0     NaN    Mumbai   India       0\n",
       "2      TCS  35.0  2300.0  Calcutta   India       0\n",
       "3  Infosys  40.0  3000.0     Delhi   India       0\n",
       "4      TCS  23.0  4000.0    Mumbai   India       0"
      ]
     },
     "execution_count": 79,
     "metadata": {},
     "output_type": "execute_result"
    }
   ],
   "source": [
    "# Loading the dataset\n",
    "df = pd.read_csv('Employee.csv') \n",
    "df.head()"
   ]
  },
  {
   "cell_type": "markdown",
   "id": "be482596-8363-4597-a18c-a8d91e983b6b",
   "metadata": {},
   "source": [
    "# 1 Data Exploration"
   ]
  },
  {
   "cell_type": "code",
   "execution_count": 31,
   "id": "ffe6fbee-05b8-4a8d-86eb-67cdcbe89bbb",
   "metadata": {},
   "outputs": [
    {
     "name": "stdout",
     "output_type": "stream",
     "text": [
      "Column: Company\n",
      "Unique values: ['TCS' 'Infosys' 'CTS' nan 'Tata Consultancy Services' 'Congnizant'\n",
      " 'Infosys Pvt Lmt']\n",
      "Count of unique values: 6\n",
      "----------------------------------------\n",
      "Column: Age\n",
      "Unique values: [20. 30. 35. 40. 23. nan 34. 45. 18. 22. 32. 37. 50. 21. 46. 36. 26. 41.\n",
      " 24. 25. 43. 19. 38. 51. 31. 44. 33. 17.  0. 54.]\n",
      "Count of unique values: 29\n",
      "----------------------------------------\n",
      "Column: Salary\n",
      "Unique values: [  nan 2300. 3000. 4000. 5000. 6000. 7000. 8000. 9000. 1089. 1234. 3030.\n",
      " 3045. 3184. 4824. 5835. 7084. 8943. 8345. 9284. 9876. 2034. 7654. 2934.\n",
      " 4034. 5034. 8202. 9024. 4345. 6544. 6543. 3234. 4324. 5435. 5555. 8787.\n",
      " 3454. 5654. 5009. 5098. 3033.]\n",
      "Count of unique values: 40\n",
      "----------------------------------------\n",
      "Column: Place\n",
      "Unique values: ['Chennai' 'Mumbai' 'Calcutta' 'Delhi' 'Podicherry' 'Cochin' nan 'Noida'\n",
      " 'Hyderabad' 'Bhopal' 'Nagpur' 'Pune']\n",
      "Count of unique values: 11\n",
      "----------------------------------------\n",
      "Column: Country\n",
      "Unique values: ['India']\n",
      "Count of unique values: 1\n",
      "----------------------------------------\n",
      "Column: Gender\n",
      "Unique values: [0 1]\n",
      "Count of unique values: 2\n",
      "----------------------------------------\n"
     ]
    }
   ],
   "source": [
    "# Finding the unique values in each column\n",
    "\n",
    "for column in df.columns:\n",
    "    print(f\"Column: {column}\")\n",
    "    print(f\"Unique values: {df[column].unique()}\")\n",
    "    print(f\"Count of unique values: {df[column].nunique()}\")\n",
    "    print('-'*40)"
   ]
  },
  {
   "cell_type": "code",
   "execution_count": 10,
   "id": "3c8304ee-58b6-4954-b86b-720dbc4d8d32",
   "metadata": {},
   "outputs": [
    {
     "name": "stdout",
     "output_type": "stream",
     "text": [
      "              Age       Salary      Gender\n",
      "count  130.000000   124.000000  148.000000\n",
      "mean    30.484615  5312.467742    0.222973\n",
      "std     11.096640  2573.764683    0.417654\n",
      "min      0.000000  1089.000000    0.000000\n",
      "25%     22.000000  3030.000000    0.000000\n",
      "50%     32.500000  5000.000000    0.000000\n",
      "75%     37.750000  8000.000000    0.000000\n",
      "max     54.000000  9876.000000    1.000000\n"
     ]
    }
   ],
   "source": [
    "# Statistical summary\n",
    "print(df.describe())"
   ]
  },
  {
   "cell_type": "code",
   "execution_count": 81,
   "id": "47a42c48-2b2f-45f1-8170-42f1a282dc7e",
   "metadata": {},
   "outputs": [
    {
     "data": {
      "text/html": [
       "<div>\n",
       "<style scoped>\n",
       "    .dataframe tbody tr th:only-of-type {\n",
       "        vertical-align: middle;\n",
       "    }\n",
       "\n",
       "    .dataframe tbody tr th {\n",
       "        vertical-align: top;\n",
       "    }\n",
       "\n",
       "    .dataframe thead th {\n",
       "        text-align: right;\n",
       "    }\n",
       "</style>\n",
       "<table border=\"1\" class=\"dataframe\">\n",
       "  <thead>\n",
       "    <tr style=\"text-align: right;\">\n",
       "      <th></th>\n",
       "      <th>Company</th>\n",
       "      <th>Age</th>\n",
       "      <th>Salary</th>\n",
       "      <th>City</th>\n",
       "      <th>Country</th>\n",
       "      <th>Gender</th>\n",
       "    </tr>\n",
       "  </thead>\n",
       "  <tbody>\n",
       "    <tr>\n",
       "      <th>0</th>\n",
       "      <td>TCS</td>\n",
       "      <td>20.0</td>\n",
       "      <td>NaN</td>\n",
       "      <td>Chennai</td>\n",
       "      <td>India</td>\n",
       "      <td>0</td>\n",
       "    </tr>\n",
       "    <tr>\n",
       "      <th>1</th>\n",
       "      <td>Infosys</td>\n",
       "      <td>30.0</td>\n",
       "      <td>NaN</td>\n",
       "      <td>Mumbai</td>\n",
       "      <td>India</td>\n",
       "      <td>0</td>\n",
       "    </tr>\n",
       "    <tr>\n",
       "      <th>2</th>\n",
       "      <td>TCS</td>\n",
       "      <td>35.0</td>\n",
       "      <td>2300.0</td>\n",
       "      <td>Calcutta</td>\n",
       "      <td>India</td>\n",
       "      <td>0</td>\n",
       "    </tr>\n",
       "    <tr>\n",
       "      <th>3</th>\n",
       "      <td>Infosys</td>\n",
       "      <td>40.0</td>\n",
       "      <td>3000.0</td>\n",
       "      <td>Delhi</td>\n",
       "      <td>India</td>\n",
       "      <td>0</td>\n",
       "    </tr>\n",
       "    <tr>\n",
       "      <th>4</th>\n",
       "      <td>TCS</td>\n",
       "      <td>23.0</td>\n",
       "      <td>4000.0</td>\n",
       "      <td>Mumbai</td>\n",
       "      <td>India</td>\n",
       "      <td>0</td>\n",
       "    </tr>\n",
       "  </tbody>\n",
       "</table>\n",
       "</div>"
      ],
      "text/plain": [
       "   Company   Age  Salary      City Country  Gender\n",
       "0      TCS  20.0     NaN   Chennai   India       0\n",
       "1  Infosys  30.0     NaN    Mumbai   India       0\n",
       "2      TCS  35.0  2300.0  Calcutta   India       0\n",
       "3  Infosys  40.0  3000.0     Delhi   India       0\n",
       "4      TCS  23.0  4000.0    Mumbai   India       0"
      ]
     },
     "execution_count": 81,
     "metadata": {},
     "output_type": "execute_result"
    }
   ],
   "source": [
    "# Renaming\n",
    "df.rename(columns={'Place': 'City'}, inplace=True)\n",
    "df.head()"
   ]
  },
  {
   "cell_type": "markdown",
   "id": "352cdb26-a207-43e2-aa3f-3e0bd40c82ab",
   "metadata": {},
   "source": [
    "# Data Cleaning"
   ]
  },
  {
   "cell_type": "code",
   "execution_count": 19,
   "id": "6f2c9dae-4f1b-4192-9468-2629427223fc",
   "metadata": {},
   "outputs": [
    {
     "name": "stdout",
     "output_type": "stream",
     "text": [
      "Company     8\n",
      "Age        18\n",
      "Salary     24\n",
      "City       14\n",
      "Country     0\n",
      "Gender      0\n",
      "dtype: int64\n"
     ]
    }
   ],
   "source": [
    "# Finding and treating missing and Inappropriate Values\n",
    "\n",
    "print(df.isnull().sum())"
   ]
  },
  {
   "cell_type": "code",
   "execution_count": 21,
   "id": "84bb6699-9c20-4415-9536-f9c29e3f8b47",
   "metadata": {},
   "outputs": [],
   "source": [
    "# Removing Duplicate rows\n",
    "df.drop_duplicates(inplace=True)"
   ]
  },
  {
   "cell_type": "code",
   "execution_count": 17,
   "id": "c911d06b-12fc-42a4-bf59-c163c6cd6b14",
   "metadata": {},
   "outputs": [
    {
     "name": "stdout",
     "output_type": "stream",
     "text": [
      "Q1 (25th Percentile):\n",
      " Age         22.0\n",
      "Salary    3030.0\n",
      "Gender       0.0\n",
      "Name: 0.25, dtype: float64\n",
      "\n",
      "Q3 (75th Percentile):\n",
      " Age         37.75\n",
      "Salary    8000.00\n",
      "Gender       0.00\n",
      "Name: 0.75, dtype: float64\n",
      "\n",
      "IQR (Q3 - Q1):\n",
      " Age         15.75\n",
      "Salary    4970.00\n",
      "Gender       0.00\n",
      "dtype: float64\n"
     ]
    }
   ],
   "source": [
    "# Finding Outliers using IQR Method\n",
    "# Select only numeric columns\n",
    "numeric_df = df.select_dtypes(include=['number'])\n",
    "\n",
    "# Apply IQR method\n",
    "Q1 = numeric_df.quantile(0.25)\n",
    "Q3 = numeric_df.quantile(0.75)\n",
    "IQR = Q3 - Q1\n",
    "\n",
    "# Print Q1, Q3, and IQR\n",
    "print(\"Q1 (25th Percentile):\\n\", Q1)\n",
    "print(\"\\nQ3 (75th Percentile):\\n\", Q3)\n",
    "print(\"\\nIQR (Q3 - Q1):\\n\", IQR)"
   ]
  },
  {
   "cell_type": "code",
   "execution_count": 41,
   "id": "47375191-f9ee-43d0-9a27-20deaaa2fcc1",
   "metadata": {},
   "outputs": [],
   "source": [
    "# Replace 0 in age with NaN\n",
    "df['Age'] = df['Age'].replace(0, np.nan)\n"
   ]
  },
  {
   "cell_type": "code",
   "execution_count": 47,
   "id": "de950c8b-c6d6-4ecb-ae55-eb4e3456f4f1",
   "metadata": {},
   "outputs": [],
   "source": [
    "# Treating Null Values\n",
    "# Filling Age with Mean\n",
    "df['Age'] =df['Age'].fillna(df['Age'].mean())\n",
    "\n",
    "# Filling Salary with Mean\n",
    "df['Salary'] = df['Salary'].fillna(df['Salary'].mean())\n",
    "\n",
    "# Dropping Null values in the company Company\n",
    "df = df.dropna(subset=['Company'])\n"
   ]
  },
  {
   "cell_type": "markdown",
   "id": "17bd3be1-bba6-4ec4-be4b-82ea967995a1",
   "metadata": {},
   "source": [
    "# Data Analysis"
   ]
  },
  {
   "cell_type": "code",
   "execution_count": 50,
   "id": "941148af-5eb1-4e92-b4ce-07132cd17bcf",
   "metadata": {},
   "outputs": [
    {
     "name": "stdout",
     "output_type": "stream",
     "text": [
      "     Company   Age  Salary      Place Country  Gender\n",
      "21   Infosys  50.0  3184.0      Delhi   India       0\n",
      "32   Infosys  45.0  4034.0   Calcutta   India       0\n",
      "39   Infosys  41.0  3000.0     Mumbai   India       0\n",
      "50   Infosys  41.0  3000.0    Chennai   India       0\n",
      "57   Infosys  51.0  3184.0  Hyderabad   India       0\n",
      "68   Infosys  43.0  4034.0     Mumbai   India       0\n",
      "75   Infosys  44.0  3000.0     Cochin   India       0\n",
      "86   Infosys  41.0  3000.0      Delhi   India       0\n",
      "93   Infosys  54.0  3184.0     Mumbai   India       0\n",
      "104  Infosys  44.0  4034.0      Delhi   India       0\n",
      "122  Infosys  44.0  3234.0     Mumbai   India       0\n",
      "129  Infosys  50.0  3184.0   Calcutta   India       0\n",
      "138      CTS  44.0  3033.0     Cochin   India       0\n",
      "140  Infosys  44.0  4034.0  Hyderabad   India       0\n",
      "145  Infosys  44.0  4034.0      Delhi   India       1\n"
     ]
    }
   ],
   "source": [
    "# Filter the data with age >40 and salary<5000\n",
    "\n",
    "filtered_df = df[(df['Age'] > 40) & (df['Salary'] <5000)]\n",
    "print(filtered_df)"
   ]
  },
  {
   "cell_type": "code",
   "execution_count": 52,
   "id": "d5e10271-0d41-4b34-91b5-0eebc7fc0591",
   "metadata": {},
   "outputs": [
    {
     "data": {
      "image/png": "[encoded data removed]",
      "text/plain": [
       "<Figure size 640x480 with 1 Axes>"
      ]
     },
     "metadata": {},
     "output_type": "display_data"
    }
   ],
   "source": [
    "# Plot the chart with age and salary\n",
    "# Scatter Plot\n",
    "\n",
    "sns.scatterplot(data=df, x='Age', y='Salary')\n",
    "plt.title('Age Vs Salary')\n",
    "plt.show()"
   ]
  },
  {
   "cell_type": "code",
   "execution_count": 68,
   "id": "497c8155-7811-4a68-b591-836c3ebadb1d",
   "metadata": {},
   "outputs": [
    {
     "name": "stdout",
     "output_type": "stream",
     "text": [
      "People Count by City:\n",
      "\n",
      "City\n",
      "Mumbai        36\n",
      "Calcutta      31\n",
      "Chennai       13\n",
      "Delhi         13\n",
      "Cochin        13\n",
      "Noida          7\n",
      "Hyderabad      7\n",
      "Podicherry     3\n",
      "Pune           2\n",
      "Bhopal         1\n",
      "Nagpur         1\n",
      "Name: count, dtype: int64\n"
     ]
    },
    {
     "data": {
      "image/png": "[encoded data removed]",
      "text/plain": [
       "<Figure size 640x480 with 1 Axes>"
      ]
     },
     "metadata": {},
     "output_type": "display_data"
    }
   ],
   "source": [
    "# Count the number of people from each place and it's Vishual representation.\n",
    "\n",
    "# People Count by City\n",
    "City_Counts = df['City'].value_counts()\n",
    "print(\"People Count by City:\\n\")\n",
    "print(City_Counts)\n",
    "\n",
    "sns.countplot(data=df, x='City')\n",
    "plt.xticks(rotation=45)\n",
    "plt.title('People Count by City')\n",
    "plt.show()"
   ]
  },
  {
   "cell_type": "markdown",
   "id": "096abe2c-d41d-4aff-bf0a-f949963dec0f",
   "metadata": {},
   "source": [
    "# Data Encoding"
   ]
  },
  {
   "cell_type": "code",
   "execution_count": 73,
   "id": "9ab7b072-1a7c-45aa-b023-fe1fdf7205ef",
   "metadata": {},
   "outputs": [
    {
     "name": "stdout",
     "output_type": "stream",
     "text": [
      "       City  City_Encoded\n",
      "0   Chennai             2\n",
      "1    Mumbai             6\n",
      "2  Calcutta             1\n",
      "3     Delhi             4\n",
      "4    Mumbai             6\n",
      "5  Calcutta             1\n",
      "6   Chennai             2\n",
      "7    Mumbai             6\n",
      "8  Calcutta             1\n",
      "9     Delhi             4\n"
     ]
    }
   ],
   "source": [
    "# Label Encoding\n",
    "df_label_encoded = df.copy()\n",
    "le = LabelEncoder()\n",
    "df_label_encoded['City_Encoded'] = le.fit_transform(df_label_encoded['City'])\n",
    "\n",
    "# Printing Encoding\n",
    "print(df_label_encoded[['City', 'City_Encoded']].head(10))\n",
    "\n"
   ]
  },
  {
   "cell_type": "code",
   "execution_count": 83,
   "id": "81321495-bca1-4350-8417-41c4596ad7e0",
   "metadata": {},
   "outputs": [
    {
     "name": "stdout",
     "output_type": "stream",
     "text": [
      "   Company_CTS  Company_Congnizant  Company_Infosys  Company_Infosys Pvt Lmt  \\\n",
      "0        False               False            False                    False   \n",
      "1        False               False             True                    False   \n",
      "2        False               False            False                    False   \n",
      "3        False               False             True                    False   \n",
      "4        False               False            False                    False   \n",
      "5        False               False             True                    False   \n",
      "6        False               False            False                    False   \n",
      "7        False               False             True                    False   \n",
      "8        False               False            False                    False   \n",
      "9         True               False            False                    False   \n",
      "\n",
      "   Company_TCS  Company_Tata Consultancy Services  \n",
      "0         True                              False  \n",
      "1        False                              False  \n",
      "2         True                              False  \n",
      "3        False                              False  \n",
      "4         True                              False  \n",
      "5        False                              False  \n",
      "6         True                              False  \n",
      "7        False                              False  \n",
      "8         True                              False  \n",
      "9        False                              False  \n"
     ]
    }
   ],
   "source": [
    "# One hot Encoding\n",
    "# Company\n",
    "df_one_hot_encoded = pd.get_dummies(df, columns=['Company'])\n",
    "\n",
    "print(df_one_hot_encoded.filter(like='Company_').head(10))\n"
   ]
  },
  {
   "cell_type": "markdown",
   "id": "f3df4cda-f40c-4445-92d2-5a10a8a8cbc4",
   "metadata": {},
   "source": [
    "# Feature Scaling"
   ]
  },
  {
   "cell_type": "code",
   "execution_count": 96,
   "id": "793f8a71-c875-477b-8a60-b044e05c39b1",
   "metadata": {},
   "outputs": [
    {
     "name": "stdout",
     "output_type": "stream",
     "text": [
      "Standard Scaled Data(First 5 rows):\n",
      "        Age    Salary    Gender\n",
      "0 -0.948501       NaN -0.535683\n",
      "1 -0.043841       NaN -0.535683\n",
      "2  0.408489 -1.175200 -0.535683\n",
      "3  0.860819 -0.902122 -0.535683\n",
      "4 -0.677103 -0.512010 -0.535683\n"
     ]
    }
   ],
   "source": [
    "# Selecting numerical Columns\n",
    "numeric_cols = df.select_dtypes(include=['int64', 'float64']).columns\n",
    "\n",
    "# Standard Scaler\n",
    "\n",
    "scaler_standard = StandardScaler()\n",
    "df_standard_scaled = df.copy()\n",
    "df_standard_scaled[numeric_cols] = scaler_standard.fit_transform(df[numeric_cols])\n",
    "\n",
    "print(\"Standard Scaled Data(First 5 rows):\")\n",
    "print(df_standard_scaled[numeric_cols].head())\n"
   ]
  },
  {
   "cell_type": "code",
   "execution_count": 106,
   "id": "9caadeeb-97d1-4aa1-8680-dec9dc7779d7",
   "metadata": {},
   "outputs": [
    {
     "name": "stdout",
     "output_type": "stream",
     "text": [
      "MinMax Scaled Data(First 5 rows):\n",
      "        Age    Salary  Gender\n",
      "0  0.370370       NaN     0.0\n",
      "1  0.555556       NaN     0.0\n",
      "2  0.648148  0.137817     0.0\n",
      "3  0.740741  0.217480     0.0\n",
      "4  0.425926  0.331285     0.0\n"
     ]
    }
   ],
   "source": [
    "# MinMax Scaler\n",
    "\n",
    "scaler_minmax = MinMaxScaler()\n",
    "df_minmax_scaled = df.copy()\n",
    "df_minmax_scaled[numeric_cols] = scaler_minmax.fit_transform(df[numeric_cols])\n",
    "\n",
    "print(\"MinMax Scaled Data(First 5 rows):\")\n",
    "print(df_minmax_scaled[numeric_cols].head())\n",
    "                                                        "
   ]
  },
  {
   "cell_type": "markdown",
   "id": "0b56d100-f6c0-4756-b422-927ab0c4daac",
   "metadata": {},
   "source": [
    "### Observations:\n",
    "- Most employees are concentrated in the cities of Mumbai and Calcutta.\n",
    "- Salary and Age had some outliers, which were addressed.\n",
    "  \n",
    " "
   ]
  },
  {
   "cell_type": "markdown",
   "id": "6057573f-0aec-43a6-a976-bf9057fa74d0",
   "metadata": {},
   "source": [
    "## Summary\n",
    "- Cleaned dataset by handling missing values, duplicates, and outliers.\n",
    "- Categorical columns were encoded using One-Hot and Label Encoding.\n",
    "- Applied feature scaling using StandardScaler and MinMaxScaler for numerical features.\n",
    "- The dataset is now preprocessed and ready for machine learning modeling."
   ]
  },
  {
   "cell_type": "code",
   "execution_count": null,
   "id": "f36043f9-105d-437b-8b4f-fbad9823770f",
   "metadata": {},
   "outputs": [],
   "source": []
  }
 ],
 "metadata": {
  "kernelspec": {
   "display_name": "Python [conda env:base] *",
   "language": "python",
   "name": "conda-base-py"
  },
  "language_info": {
   "codemirror_mode": {
    "name": "ipython",
    "version": 3
   },
   "file_extension": ".py",
   "mimetype": "text/x-python",
   "name": "python",
   "nbconvert_exporter": "python",
   "pygments_lexer": "ipython3",
   "version": "3.12.7"
  }
 },
 "nbformat": 4,
 "nbformat_minor": 5
}
